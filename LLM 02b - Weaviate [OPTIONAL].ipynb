{
 "cells": [
  {
   "cell_type": "markdown",
   "metadata": {
    "application/vnd.databricks.v1+cell": {
     "cellMetadata": {},
     "inputWidgets": {},
     "nuid": "98cb1514-95d5-46ae-a9bb-34e8712e890a",
     "showTitle": false,
     "title": ""
    }
   },
   "source": [
    "-sandbox\n",
    "\n",
    "<div style=\"text-align: center; line-height: 0; padding-top: 9px;\">\n",
    "  <img src=\"https://databricks.com/wp-content/uploads/2018/03/db-academy-rgb-1200px.png\" alt=\"Databricks Learning\" style=\"width: 600px\">\n",
    "</div>"
   ]
  },
  {
   "cell_type": "markdown",
   "metadata": {
    "application/vnd.databricks.v1+cell": {
     "cellMetadata": {},
     "inputWidgets": {},
     "nuid": "fbaff2a8-ebeb-40cc-8d36-08eda5375820",
     "showTitle": false,
     "title": ""
    }
   },
   "source": [
    "# Weaviate\n",
    "\n",
    "In this notebook, we will use Weaviate as our vector database. We will then write the embedding vectors out to Weaviate and query for similar documents. Weaviate provides customization options, such as to incorporate Product Quantization or not (refer [here](https://weaviate.io/developers/weaviate/concepts/vector-index#hnsw-with-product-quantizationpq)). \n",
    "\n",
    "[Zilliz](https://zilliz.com/) has an enterprise offering for Weaviate."
   ]
  },
  {
   "cell_type": "markdown",
   "metadata": {
    "application/vnd.databricks.v1+cell": {
     "cellMetadata": {},
     "inputWidgets": {},
     "nuid": "ace5dc5c-c7b4-466e-9051-53f33a2972e1",
     "showTitle": false,
     "title": ""
    }
   },
   "source": [
    "## Library pre-requisites\n",
    "\n",
    "- weaviate-client\n",
    "  - pip install below\n",
    "- Spark connector jar file\n",
    "  - **IMPORTANT!!** Since we will be interacting with Spark by writing a Spark dataframe out to Weaviate, we need a Spark Connector.\n",
    "  - [Download the Spark connector jar file](https://github.com/weaviate/spark-connector#download-jar-from-github) and [upload to your Databricks cluster](https://github.com/weaviate/spark-connector#using-the-jar-in-databricks)."
   ]
  },
  {
   "cell_type": "code",
   "execution_count": 0,
   "metadata": {
    "application/vnd.databricks.v1+cell": {
     "cellMetadata": {},
     "inputWidgets": {},
     "nuid": "c0a2e848-78f9-4fd4-9c5c-3898bf241d6c",
     "showTitle": false,
     "title": ""
    }
   },
   "outputs": [],
   "source": [
    "%pip install weaviate-client==3.19.1"
   ]
  },
  {
   "cell_type": "markdown",
   "metadata": {
    "application/vnd.databricks.v1+cell": {
     "cellMetadata": {},
     "inputWidgets": {},
     "nuid": "5216b9c8-ce02-490c-993d-2feef43f3049",
     "showTitle": false,
     "title": ""
    }
   },
   "source": [
    "## Classroom Setup"
   ]
  },
  {
   "cell_type": "code",
   "execution_count": 0,
   "metadata": {
    "application/vnd.databricks.v1+cell": {
     "cellMetadata": {},
     "inputWidgets": {},
     "nuid": "6108b6ff-b622-48ae-b714-6dc00dd0ff6f",
     "showTitle": false,
     "title": ""
    }
   },
   "outputs": [],
   "source": [
    "%run ../Includes/Classroom-Setup"
   ]
  },
  {
   "cell_type": "markdown",
   "metadata": {
    "application/vnd.databricks.v1+cell": {
     "cellMetadata": {},
     "inputWidgets": {},
     "nuid": "20edbdb6-a3ce-40fd-934d-d96628827f7e",
     "showTitle": false,
     "title": ""
    }
   },
   "source": [
    "## Weaviate\n",
    "\n",
    "[Weaviate](https://weaviate.io/) is an open-source persistent and fault-tolerant [vector database](https://weaviate.io/developers/weaviate/concepts/storage). It integrates with a variety of tools, including OpenAI and Hugging Face Transformers. You can refer to their [documentation here](https://weaviate.io/developers/weaviate/quickstart).\n",
    "\n",
    "### Setting up your Weaviate Network\n",
    "\n",
    "Before we could proceed, you need your own Weaviate Network. To start your own network, visit the [homepage](https://weaviate.io/). \n",
    "\n",
    "Step 1: Click on `Start Free` \n",
    "\n",
    "<img src=\"https://files.training.databricks.com/images/weaviate_homepage.png\" width=500>\n",
    "\n",
    "Step 2: You will be brought to this [Console page](https://console.weaviate.cloud/). If this is your first time using Weaviate, click `Register here` and pass in your credentials.\n",
    "\n",
    "<img src=\"https://files.training.databricks.com/images/weaviate_register.png\" width=500>\n",
    "\n",
    "Step 3: Click on `Create cluster` and select `Free sandbox`. Provide your cluster name. For simplicity, we will toggle `enable authentication` to be `No`. Then, hit `Create`. \n",
    "\n",
    "<img src=\"https://files.training.databricks.com/images/weaviate_create_cluster.png\" width=900>\n",
    "\n",
    "Step 4: Click on `Details` and copy the `Cluster URL` and paste in the cell below."
   ]
  },
  {
   "cell_type": "markdown",
   "metadata": {
    "application/vnd.databricks.v1+cell": {
     "cellMetadata": {},
     "inputWidgets": {},
     "nuid": "6b9e7429-d9c4-424d-b5a6-07c993a81645",
     "showTitle": false,
     "title": ""
    }
   },
   "source": [
    "We will use embeddings from OpenAI,  so we will need a token from OpenAI API\n",
    "\n",
    "Steps:\n",
    "1. You need to [create an account](https://platform.openai.com/signup) on OpenAI. \n",
    "2. Generate an OpenAI [API key here](https://platform.openai.com/account/api-keys). \n",
    "\n",
    "Note: OpenAI does not have a free option, but it gives you $5 as credit. Once you have exhausted your $5 credit, you will need to add your payment method. You will be [charged per token usage](https://openai.com/pricing). **IMPORTANT**: It's crucial that you keep your OpenAI API key to yourself. If others have access to your OpenAI key, they will be able to charge their usage to your account!"
   ]
  },
  {
   "cell_type": "code",
   "execution_count": 0,
   "metadata": {
    "application/vnd.databricks.v1+cell": {
     "cellMetadata": {},
     "inputWidgets": {},
     "nuid": "ca4db0aa-aa2e-4c19-b5ac-ce54340b287e",
     "showTitle": false,
     "title": ""
    }
   },
   "outputs": [],
   "source": [
    "# TODO\n",
    "import os\n",
    "\n",
    "os.environ[\"OPENAI_API_KEY\"] = \"<FILL IN>\"\n",
    "os.environ[\"WEAVIATE_NETWORK\"] = \"<FILL IN>\""
   ]
  },
  {
   "cell_type": "code",
   "execution_count": 0,
   "metadata": {
    "application/vnd.databricks.v1+cell": {
     "cellMetadata": {},
     "inputWidgets": {},
     "nuid": "52a9d4f5-aa38-4b20-a42d-d2c2cedf1e04",
     "showTitle": false,
     "title": ""
    }
   },
   "outputs": [],
   "source": [
    "import openai\n",
    "\n",
    "openai.api_key = os.environ[\"OPENAI_API_KEY\"]\n",
    "weaviate_network = os.environ[\"WEAVIATE_NETWORK\"]"
   ]
  },
  {
   "cell_type": "code",
   "execution_count": 0,
   "metadata": {
    "application/vnd.databricks.v1+cell": {
     "cellMetadata": {},
     "inputWidgets": {},
     "nuid": "54a5f856-924e-4b04-b1e3-88ac703d9228",
     "showTitle": false,
     "title": ""
    }
   },
   "outputs": [],
   "source": [
    "import weaviate\n",
    "\n",
    "client = weaviate.Client(\n",
    "    weaviate_network, additional_headers={\"X-OpenAI-Api-Key\": openai.api_key}\n",
    ")\n",
    "client.is_ready()"
   ]
  },
  {
   "cell_type": "markdown",
   "metadata": {
    "application/vnd.databricks.v1+cell": {
     "cellMetadata": {},
     "inputWidgets": {},
     "nuid": "0f5729c0-3d58-4ed0-9037-883f134561c5",
     "showTitle": false,
     "title": ""
    }
   },
   "source": [
    "### Dataset\n",
    "\n",
    "\n",
    "In this section, we are going to use the data on <a href=\"https://newscatcherapi.com/\" target=\"_blank\">news topics collected by the NewsCatcher team</a>, who collects and indexes news articles and release them to the open-source community. The dataset can be downloaded from <a href=\"https://www.kaggle.com/kotartemiy/topic-labeled-news-dataset\" target=\"_blank\">Kaggle</a>."
   ]
  },
  {
   "cell_type": "code",
   "execution_count": 0,
   "metadata": {
    "application/vnd.databricks.v1+cell": {
     "cellMetadata": {},
     "inputWidgets": {},
     "nuid": "bd44713c-b2c3-4a11-bb2f-eb9d484cd558",
     "showTitle": false,
     "title": ""
    }
   },
   "outputs": [],
   "source": [
    "df = (\n",
    "    spark.read.option(\"header\", True)\n",
    "    .option(\"sep\", \";\")\n",
    "    .format(\"csv\")\n",
    "    .load(\n",
    "        f\"{DA.paths.datasets}/news/labelled_newscatcher_dataset.csv\".replace(\n",
    "            \"/dbfs\", \"dbfs:\"\n",
    "        )\n",
    "    )\n",
    ")\n",
    "display(df)"
   ]
  },
  {
   "cell_type": "markdown",
   "metadata": {
    "application/vnd.databricks.v1+cell": {
     "cellMetadata": {},
     "inputWidgets": {},
     "nuid": "a39ad2c2-837e-4916-94b7-41828e90b25d",
     "showTitle": false,
     "title": ""
    }
   },
   "source": [
    "We are going to store this dataset in the Weaviate database. To do that, we first need to define a schema. A schema is where we define classes, class properties, data types, and vectorizer modules we would like to use. \n",
    "\n",
    "In the schema below, notice that:\n",
    "\n",
    "- We capitalize the first letter of `class_name`. This is Weaviate's rule. \n",
    "- We specify data types within `properties`\n",
    "- We use `text2vec-openai` as the vectorizer. \n",
    "  - You can also choose to upload your own vectors (refer to [docs here](https://weaviate.io/developers/weaviate/api/rest/objects#with-a-custom-vector)) or create a class without any vectors (but we won't be able to perform similarity search after).\n",
    "\n",
    "[Reference documentation here](https://weaviate.io/developers/weaviate/tutorials/schema)"
   ]
  },
  {
   "cell_type": "code",
   "execution_count": 0,
   "metadata": {
    "application/vnd.databricks.v1+cell": {
     "cellMetadata": {},
     "inputWidgets": {},
     "nuid": "78a6e913-6623-4efc-b64c-d6476e634542",
     "showTitle": false,
     "title": ""
    }
   },
   "outputs": [],
   "source": [
    "class_name = \"News\"\n",
    "class_obj = {\n",
    "    \"class\": class_name,\n",
    "    \"description\": \"News topics collected by NewsCatcher\",\n",
    "    \"properties\": [\n",
    "        {\"name\": \"topic\", \"dataType\": [\"string\"]},\n",
    "        {\"name\": \"link\", \"dataType\": [\"string\"]},\n",
    "        {\"name\": \"domain\", \"dataType\": [\"string\"]},\n",
    "        {\"name\": \"published_date\", \"dataType\": [\"string\"]},\n",
    "        {\"name\": \"title\", \"dataType\": [\"string\"]},\n",
    "        {\"name\": \"lang\", \"dataType\": [\"string\"]},\n",
    "    ],\n",
    "    \"vectorizer\": \"text2vec-openai\",\n",
    "}"
   ]
  },
  {
   "cell_type": "code",
   "execution_count": 0,
   "metadata": {
    "application/vnd.databricks.v1+cell": {
     "cellMetadata": {},
     "inputWidgets": {},
     "nuid": "365c3df7-e101-4629-81c5-c3eed1b1ef95",
     "showTitle": false,
     "title": ""
    }
   },
   "outputs": [],
   "source": [
    "# If the class exists before, we will delete it first\n",
    "if client.schema.exists(class_name):\n",
    "    print(\"Deleting existing class...\")\n",
    "    client.schema.delete_class(class_name)\n",
    "\n",
    "print(f\"Creating class: '{class_name}'\")\n",
    "client.schema.create_class(class_obj)"
   ]
  },
  {
   "cell_type": "markdown",
   "metadata": {
    "application/vnd.databricks.v1+cell": {
     "cellMetadata": {},
     "inputWidgets": {},
     "nuid": "f90c2726-2439-41ab-b64c-df9c9395bcb6",
     "showTitle": false,
     "title": ""
    }
   },
   "source": [
    "If you are curious what the schema looks like for your class, run the following command."
   ]
  },
  {
   "cell_type": "code",
   "execution_count": 0,
   "metadata": {
    "application/vnd.databricks.v1+cell": {
     "cellMetadata": {},
     "inputWidgets": {},
     "nuid": "ebc6092e-0100-4e02-b26a-cf6eddb52042",
     "showTitle": false,
     "title": ""
    }
   },
   "outputs": [],
   "source": [
    "import json\n",
    "\n",
    "print(json.dumps(client.schema.get(class_name), indent=4))"
   ]
  },
  {
   "cell_type": "markdown",
   "metadata": {
    "application/vnd.databricks.v1+cell": {
     "cellMetadata": {},
     "inputWidgets": {},
     "nuid": "a9ceb8a0-4ecb-4f5f-9a5c-03af27b70489",
     "showTitle": false,
     "title": ""
    }
   },
   "source": [
    "Now that the class is created, we are going to write our dataframe to the class. \n",
    "\n",
    "**IMPORTANT!!** Since we are writing a Spark DataFrame out, we need a Spark Connector to Weaviate. You need to [download the Spark connector jar file](https://github.com/weaviate/spark-connector#download-jar-from-github) and [upload to your Databricks cluster](https://github.com/weaviate/spark-connector#using-the-jar-in-databricks) before running the next cell. If you do not do this, the next cell *will fail*."
   ]
  },
  {
   "cell_type": "code",
   "execution_count": 0,
   "metadata": {
    "application/vnd.databricks.v1+cell": {
     "cellMetadata": {},
     "inputWidgets": {},
     "nuid": "1bce0e04-d8ee-4267-847f-20c3161de9d0",
     "showTitle": false,
     "title": ""
    }
   },
   "outputs": [],
   "source": [
    "(\n",
    "    df.limit(100)\n",
    "    .write.format(\"io.weaviate.spark.Weaviate\")\n",
    "    .option(\"scheme\", \"http\")\n",
    "    .option(\"host\", weaviate_network.split(\"https://\")[1])\n",
    "    .option(\"header:X-OpenAI-Api-Key\", openai.api_key)\n",
    "    .option(\"className\", class_name)\n",
    "    .mode(\"append\")\n",
    "    .save()\n",
    ")"
   ]
  },
  {
   "cell_type": "markdown",
   "metadata": {
    "application/vnd.databricks.v1+cell": {
     "cellMetadata": {},
     "inputWidgets": {},
     "nuid": "52a4b56a-7bed-4909-8030-39cfb56b3fb3",
     "showTitle": false,
     "title": ""
    }
   },
   "source": [
    "Let's check if the data is indeed populated. You can run either the following command or go to \n",
    "`https://{insert_your_cluster_url_here}/v1/objects` \n",
    "\n",
    "You should be able to see the data records, rather than null objects."
   ]
  },
  {
   "cell_type": "code",
   "execution_count": 0,
   "metadata": {
    "application/vnd.databricks.v1+cell": {
     "cellMetadata": {},
     "inputWidgets": {},
     "nuid": "6300a6c6-3773-4ed0-a451-388feb41212b",
     "showTitle": false,
     "title": ""
    }
   },
   "outputs": [],
   "source": [
    "client.query.get(\"News\", [\"topic\"]).do()"
   ]
  },
  {
   "cell_type": "markdown",
   "metadata": {
    "application/vnd.databricks.v1+cell": {
     "cellMetadata": {},
     "inputWidgets": {},
     "nuid": "4b396674-b975-4b81-9c22-b1293b1d4e54",
     "showTitle": false,
     "title": ""
    }
   },
   "source": [
    "Yay! Looks like the data is populated. We can proceed further and do a query search. We are going to search for any news titles related to `locusts`. Additionally, we are going to add a filter statement, where the topic of the news has to be `SCIENCE`. Notice that we don't have to carry out the step of converting `locusts` into embeddings ourselves because we have included a vectorizer within the class earlier on.\n",
    "\n",
    "We will use `with_near_text` to specify the text we would like to query similar titles for. By default, Weaviate uses cosine distance to determine similar objects. Refer to [distance documentation here](https://weaviate.io/developers/weaviate/config-refs/distances#available-distance-metrics)."
   ]
  },
  {
   "cell_type": "code",
   "execution_count": 0,
   "metadata": {
    "application/vnd.databricks.v1+cell": {
     "cellMetadata": {},
     "inputWidgets": {},
     "nuid": "79968e11-4d61-4dd0-b394-d2dad085ccd3",
     "showTitle": false,
     "title": ""
    }
   },
   "outputs": [],
   "source": [
    "where_filter = {\n",
    "    \"path\": [\"topic\"],\n",
    "    \"operator\": \"Equal\",\n",
    "    \"valueString\": \"SCIENCE\",\n",
    "}\n",
    "\n",
    "# We are going to search for any titles related to locusts\n",
    "near_text = {\"concepts\": \"locust\"}\n",
    "(\n",
    "    client.query.get(class_name, [\"topic\", \"domain\", \"title\"])\n",
    "    .with_where(where_filter)\n",
    "    .with_near_text(near_text)\n",
    "    .with_limit(2)\n",
    "    .do()\n",
    ")"
   ]
  },
  {
   "cell_type": "markdown",
   "metadata": {
    "application/vnd.databricks.v1+cell": {
     "cellMetadata": {},
     "inputWidgets": {},
     "nuid": "707f1cfa-7735-4c5d-bf2f-7eee00549859",
     "showTitle": false,
     "title": ""
    }
   },
   "source": [
    "Alternatively, if you wish to supply your own embeddings at query time, you can do that too. Since embeddings are vectors, we will use `with_near_vector` instead.\n",
    "\n",
    "In the code block below, we additionally introduce a `distance` parameter. The lower the distance score is, the closer the vectors are to each other. Read more about the distance thresholds [here](https://weaviate.io/developers/weaviate/config-refs/distances#available-distance-metrics)."
   ]
  },
  {
   "cell_type": "code",
   "execution_count": 0,
   "metadata": {
    "application/vnd.databricks.v1+cell": {
     "cellMetadata": {},
     "inputWidgets": {},
     "nuid": "a8b09321-ccab-4457-ae5d-7024380dab5b",
     "showTitle": false,
     "title": ""
    }
   },
   "outputs": [],
   "source": [
    "import openai\n",
    "\n",
    "model = \"text-embedding-ada-002\"\n",
    "openai_object = openai.Embedding.create(input=[\"locusts\"], model=model)\n",
    "\n",
    "openai_embedding = openai_object[\"data\"][0][\"embedding\"]\n",
    "\n",
    "(\n",
    "    client.query.get(\"News\", [\"topic\", \"domain\", \"title\"])\n",
    "    .with_where(where_filter)\n",
    "    .with_near_vector(\n",
    "        {\n",
    "            \"vector\": openai_embedding,\n",
    "            \"distance\": 0.7,  # this sets a threshold for distance metric\n",
    "        }\n",
    "    )\n",
    "    .with_limit(2)\n",
    "    .do()\n",
    ")"
   ]
  },
  {
   "cell_type": "markdown",
   "metadata": {
    "application/vnd.databricks.v1+cell": {
     "cellMetadata": {},
     "inputWidgets": {},
     "nuid": "99ec2f41-38f4-4a27-a7e9-eefd448f5103",
     "showTitle": false,
     "title": ""
    }
   },
   "source": [
    "-sandbox\n",
    "&copy; 2023 Databricks, Inc. All rights reserved.<br/>\n",
    "Apache, Apache Spark, Spark and the Spark logo are trademarks of the <a href=\"https://www.apache.org/\">Apache Software Foundation</a>.<br/>\n",
    "<br/>\n",
    "<a href=\"https://databricks.com/privacy-policy\">Privacy Policy</a> | <a href=\"https://databricks.com/terms-of-use\">Terms of Use</a> | <a href=\"https://help.databricks.com/\">Support</a>"
   ]
  }
 ],
 "metadata": {
  "application/vnd.databricks.v1+notebook": {
   "dashboards": [],
   "language": "python",
   "notebookMetadata": {
    "pythonIndentUnit": 2
   },
   "notebookName": "LLM 02b - Weaviate [OPTIONAL]",
   "widgets": {}
  }
 },
 "nbformat": 4,
 "nbformat_minor": 0
}
