{
 "cells": [
  {
   "cell_type": "markdown",
   "metadata": {
    "application/vnd.databricks.v1+cell": {
     "cellMetadata": {},
     "inputWidgets": {},
     "nuid": "b2c8d789-2d38-438c-bf98-a0a74fcbe81a",
     "showTitle": false,
     "title": ""
    }
   },
   "source": [
    "-sandbox\n",
    "\n",
    "<div style=\"text-align: center; line-height: 0; padding-top: 9px;\">\n",
    "  <img src=\"https://databricks.com/wp-content/uploads/2018/03/db-academy-rgb-1200px.png\" alt=\"Databricks Learning\" style=\"width: 600px\">\n",
    "</div>"
   ]
  },
  {
   "cell_type": "markdown",
   "metadata": {
    "application/vnd.databricks.v1+cell": {
     "cellMetadata": {},
     "inputWidgets": {},
     "nuid": "b08d0be5-878a-471f-afd5-472e6237f20b",
     "showTitle": false,
     "title": ""
    }
   },
   "source": [
    "# Pinecone\n",
    "\n",
    "In this section, we are going to try out another vector database, called Pinecone. It has a free tier which you need to sign up for to gain access below.\n",
    "\n",
    "Pinecone is a cloud-based vector database that offers fast and scalable similarity search for high-dimensional data, with a focus on simplicity and ease of use."
   ]
  },
  {
   "cell_type": "markdown",
   "metadata": {
    "application/vnd.databricks.v1+cell": {
     "cellMetadata": {},
     "inputWidgets": {},
     "nuid": "f71d60de-8f03-41a3-8279-f3db7fe55351",
     "showTitle": false,
     "title": ""
    }
   },
   "source": [
    "## Library pre-requisites\n",
    "\n",
    "- pinecone-client\n",
    "  - pip install below\n",
    "- Spark connector jar file\n",
    "  - **IMPORTANT!!** Since we will be interacting with Spark by writing a Spark dataframe out to Pinecone, we need a Spark Connector.\n",
    "  - You need to attach a Spark-Pinecone connector `s3://pinecone-jars/spark-pinecone-uberjar.jar` in the cluster you are using. Refer to this [documentation](https://docs.pinecone.io/docs/databricks#setting-up-a-spark-cluster) if you need more information."
   ]
  },
  {
   "cell_type": "code",
   "execution_count": 0,
   "metadata": {
    "application/vnd.databricks.v1+cell": {
     "cellMetadata": {},
     "inputWidgets": {},
     "nuid": "f75d7382-2a36-40cc-8f10-a80400e395bf",
     "showTitle": false,
     "title": ""
    }
   },
   "outputs": [],
   "source": [
    "%pip install pinecone-client==2.2.1"
   ]
  },
  {
   "cell_type": "markdown",
   "metadata": {
    "application/vnd.databricks.v1+cell": {
     "cellMetadata": {},
     "inputWidgets": {},
     "nuid": "ca16a484-78b1-4020-a205-ac931d99d10e",
     "showTitle": false,
     "title": ""
    }
   },
   "source": [
    "## Classroom Setup"
   ]
  },
  {
   "cell_type": "code",
   "execution_count": 0,
   "metadata": {
    "application/vnd.databricks.v1+cell": {
     "cellMetadata": {},
     "inputWidgets": {},
     "nuid": "4b726e83-36c6-4571-b846-d2973dd25a3e",
     "showTitle": false,
     "title": ""
    }
   },
   "outputs": [],
   "source": [
    "%run ../Includes/Classroom-Setup"
   ]
  },
  {
   "cell_type": "markdown",
   "metadata": {
    "application/vnd.databricks.v1+cell": {
     "cellMetadata": {},
     "inputWidgets": {},
     "nuid": "5edb46ae-e117-4429-b1cb-e5d795889055",
     "showTitle": false,
     "title": ""
    }
   },
   "source": [
    "### Setting up your Pinecone\n",
    "\n",
    "Step 1: Go to their [home page](https://www.pinecone.io/) and click `Sign Up Free` on the top right corner. \n",
    "<br>\n",
    "Step 2: Click on `Sign Up`. It's possible that you may not be able to sign up for a new account, depending on Pinecone's availability. \n",
    "\n",
    "<img src=\"https://files.training.databricks.com/images/pinecone_register.png\" width=300>\n",
    "\n",
    "Step 3: Once you are in the console, navigate to `API Keys` and copy the `Environment` and `Value` (this is your API key).\n",
    "\n",
    "<img src=\"https://files.training.databricks.com/images/pinecone_credentials.png\" width=500>"
   ]
  },
  {
   "cell_type": "code",
   "execution_count": 0,
   "metadata": {
    "application/vnd.databricks.v1+cell": {
     "cellMetadata": {},
     "inputWidgets": {},
     "nuid": "7aca3820-196f-4e8b-b6f6-ae7f0fc8799a",
     "showTitle": false,
     "title": ""
    }
   },
   "outputs": [],
   "source": [
    "# TODO\n",
    "import os\n",
    "\n",
    "os.environ[\"PINECONE_API_KEY\"] = \"<FILL IN>\"\n",
    "os.environ[\"PINECONE_ENV\"] = \"<FILL IN>\""
   ]
  },
  {
   "cell_type": "code",
   "execution_count": 0,
   "metadata": {
    "application/vnd.databricks.v1+cell": {
     "cellMetadata": {},
     "inputWidgets": {},
     "nuid": "8a6fd3e1-8811-4bd9-863c-8b186f23d538",
     "showTitle": false,
     "title": ""
    }
   },
   "outputs": [],
   "source": [
    "import pinecone\n",
    "\n",
    "pinecone_api_key = os.environ[\"PINECONE_API_KEY\"]\n",
    "pinecone_env = os.environ[\"PINECONE_ENV\"]\n",
    "\n",
    "pinecone.init(api_key=pinecone_api_key, environment=pinecone_env)"
   ]
  },
  {
   "cell_type": "code",
   "execution_count": 0,
   "metadata": {
    "application/vnd.databricks.v1+cell": {
     "cellMetadata": {},
     "inputWidgets": {},
     "nuid": "127a973c-d19e-4a23-a557-38af50c01da2",
     "showTitle": false,
     "title": ""
    }
   },
   "outputs": [],
   "source": [
    "import pyspark.sql.functions as F\n",
    "\n",
    "df = (\n",
    "    spark.read.option(\"header\", True)\n",
    "    .option(\"sep\", \";\")\n",
    "    .format(\"csv\")\n",
    "    .load(\n",
    "        f\"{DA.paths.datasets}/news/labelled_newscatcher_dataset.csv\".replace(\n",
    "            \"/dbfs\", \"dbfs:\"\n",
    "        )\n",
    "    )\n",
    "    .withColumn(\"id\", F.expr(\"uuid()\"))\n",
    ")\n",
    "display(df)"
   ]
  },
  {
   "cell_type": "markdown",
   "metadata": {
    "application/vnd.databricks.v1+cell": {
     "cellMetadata": {},
     "inputWidgets": {},
     "nuid": "f8d50362-3a16-41f0-b50d-cdd929b42bb3",
     "showTitle": false,
     "title": ""
    }
   },
   "source": [
    "For Pinecone, we need to generate the embeddings first and save it to a dataframe, before we can write it out to Pinecone for indexing. \n",
    "\n",
    "There are two ways of doing it: \n",
    "1. Using pandas DataFrame, apply the single-node embedding model, and upsert to Pinecone in batches\n",
    "2. Using Spark Dataframe and use pandas UDFs to help us apply the embedding model on batches of data"
   ]
  },
  {
   "cell_type": "markdown",
   "metadata": {
    "application/vnd.databricks.v1+cell": {
     "cellMetadata": {},
     "inputWidgets": {},
     "nuid": "5137690c-6271-4f4f-99ad-b4b3c2f12e94",
     "showTitle": false,
     "title": ""
    }
   },
   "source": [
    "### Method 1: Upsert to Pinecone in batches"
   ]
  },
  {
   "cell_type": "code",
   "execution_count": 0,
   "metadata": {
    "application/vnd.databricks.v1+cell": {
     "cellMetadata": {},
     "inputWidgets": {},
     "nuid": "0a25429b-0ad3-43ea-9923-8457a3ddf221",
     "showTitle": false,
     "title": ""
    }
   },
   "outputs": [],
   "source": [
    "pdf = df.limit(1000).toPandas()\n",
    "display(pdf)"
   ]
  },
  {
   "cell_type": "markdown",
   "metadata": {
    "application/vnd.databricks.v1+cell": {
     "cellMetadata": {},
     "inputWidgets": {},
     "nuid": "9151848d-45fb-4c95-a6ef-44a13b2b74dc",
     "showTitle": false,
     "title": ""
    }
   },
   "source": [
    "Note: Pinecone free tier only allows one index. If you have existing indices, you need to delete them before you are able create a new index.\n",
    "\n",
    "We specify the similarity measure, embedding vector dimension within the index.\n",
    "\n",
    "Read documentation on how to [create index here](https://docs.pinecone.io/reference/create_index/)."
   ]
  },
  {
   "cell_type": "code",
   "execution_count": 0,
   "metadata": {
    "application/vnd.databricks.v1+cell": {
     "cellMetadata": {},
     "inputWidgets": {},
     "nuid": "83d4de0c-673b-4b16-aa02-65a81c7eb3f2",
     "showTitle": false,
     "title": ""
    }
   },
   "outputs": [],
   "source": [
    "from sentence_transformers import SentenceTransformer\n",
    "\n",
    "# We will use embeddings from this model to apply to our data\n",
    "model = SentenceTransformer(\n",
    "    \"all-MiniLM-L6-v2\"\n",
    ")  # Use a pre-cached model"
   ]
  },
  {
   "cell_type": "markdown",
   "metadata": {
    "application/vnd.databricks.v1+cell": {
     "cellMetadata": {},
     "inputWidgets": {},
     "nuid": "e16fed04-0879-4859-9dfb-7edf4c5a4806",
     "showTitle": false,
     "title": ""
    }
   },
   "source": [
    "Delete the index if it already exists"
   ]
  },
  {
   "cell_type": "code",
   "execution_count": 0,
   "metadata": {
    "application/vnd.databricks.v1+cell": {
     "cellMetadata": {},
     "inputWidgets": {},
     "nuid": "5d8ce063-99ec-4ccf-a20c-4ce13971b179",
     "showTitle": false,
     "title": ""
    }
   },
   "outputs": [],
   "source": [
    "pinecone_index_name = \"news\"\n",
    "\n",
    "if pinecone_index_name in pinecone.list_indexes():\n",
    "    pinecone.delete_index(pinecone_index_name)"
   ]
  },
  {
   "cell_type": "markdown",
   "metadata": {
    "application/vnd.databricks.v1+cell": {
     "cellMetadata": {},
     "inputWidgets": {},
     "nuid": "7cfb3c6e-612d-4ed3-8ad8-aa9e3d7bd6ab",
     "showTitle": false,
     "title": ""
    }
   },
   "source": [
    "Create the index.\n",
    "\n",
    "We specify the index name (required), embedding vector dimension (required), and a custom similarity metric (cosine is the default) when creating our index."
   ]
  },
  {
   "cell_type": "code",
   "execution_count": 0,
   "metadata": {
    "application/vnd.databricks.v1+cell": {
     "cellMetadata": {},
     "inputWidgets": {},
     "nuid": "46a5b6a3-14aa-4ed0-a2ae-fb1b22abaf6a",
     "showTitle": false,
     "title": ""
    }
   },
   "outputs": [],
   "source": [
    "# only create index if it doesn't exist\n",
    "if pinecone_index_name not in pinecone.list_indexes():\n",
    "    pinecone.create_index(\n",
    "        name=pinecone_index_name,\n",
    "        dimension=model.get_sentence_embedding_dimension(),\n",
    "        metric=\"cosine\",\n",
    "    )\n",
    "\n",
    "# now connect to the index\n",
    "pinecone_index = pinecone.Index(pinecone_index_name)"
   ]
  },
  {
   "cell_type": "markdown",
   "metadata": {
    "application/vnd.databricks.v1+cell": {
     "cellMetadata": {},
     "inputWidgets": {},
     "nuid": "a2b14c23-daa7-497a-ba98-8be148b101b0",
     "showTitle": false,
     "title": ""
    }
   },
   "source": [
    "When the index has been created, we can now upsert vectors of data records to the index. `Upsert` means that we are writing the vectors into the index. \n",
    "\n",
    "Refer to this [documentation page](https://docs.pinecone.io/docs/python-client#indexupsert) to look at example code and vectors."
   ]
  },
  {
   "cell_type": "code",
   "execution_count": 0,
   "metadata": {
    "application/vnd.databricks.v1+cell": {
     "cellMetadata": {},
     "inputWidgets": {},
     "nuid": "ea0fda7b-b0c3-46a2-b85a-df968e36e1e9",
     "showTitle": false,
     "title": ""
    }
   },
   "outputs": [],
   "source": [
    "from tqdm.auto import tqdm\n",
    "\n",
    "batch_size = 1000\n",
    "\n",
    "for i in tqdm(range(0, len(pdf[\"title\"]), batch_size)):\n",
    "    # find end of batch\n",
    "    i_end = min(i + batch_size, len(pdf[\"title\"]))\n",
    "    # create IDs batch\n",
    "    ids = [str(x) for x in range(i, i_end)]\n",
    "    # create metadata batch\n",
    "    metadata = [{\"title\": title} for title in pdf[\"title\"][i:i_end]]\n",
    "    # create embeddings\n",
    "    embedding_title_batch = model.encode(pdf[\"title\"][i:i_end]).tolist()\n",
    "    # create records list for upsert\n",
    "    records = zip(ids, embedding_title_batch, metadata)\n",
    "    # upsert to Pinecone\n",
    "    pinecone_index.upsert(vectors=records)\n",
    "\n",
    "# check number of records in the index\n",
    "pinecone_index.describe_index_stats()"
   ]
  },
  {
   "cell_type": "markdown",
   "metadata": {
    "application/vnd.databricks.v1+cell": {
     "cellMetadata": {},
     "inputWidgets": {},
     "nuid": "d171745c-fd9e-473e-9ea4-933f0b251dc9",
     "showTitle": false,
     "title": ""
    }
   },
   "source": [
    "Once the vectors are upserted, we can now query the index directly! Notice that it returns us the similarity score in the result too."
   ]
  },
  {
   "cell_type": "code",
   "execution_count": 0,
   "metadata": {
    "application/vnd.databricks.v1+cell": {
     "cellMetadata": {},
     "inputWidgets": {},
     "nuid": "a72f11ad-5815-4ffa-ad07-f121c40cecd0",
     "showTitle": false,
     "title": ""
    }
   },
   "outputs": [],
   "source": [
    "query = \"fish\"\n",
    "\n",
    "# create the query vector\n",
    "user_query = model.encode(query).tolist()\n",
    "\n",
    "# submit the query to the Pinecone index\n",
    "pinecone_answer = pinecone_index.query(user_query, top_k=3, include_metadata=True)\n",
    "\n",
    "for result in pinecone_answer[\"matches\"]:\n",
    "    print(f\"{round(result['score'], 2)}, {result['metadata']['title']}\")\n",
    "    print(\"-\" * 120)"
   ]
  },
  {
   "cell_type": "markdown",
   "metadata": {
    "application/vnd.databricks.v1+cell": {
     "cellMetadata": {},
     "inputWidgets": {},
     "nuid": "0424237d-9947-4fba-af05-26d857e728ee",
     "showTitle": false,
     "title": ""
    }
   },
   "source": [
    "### Method 2: Process with Spark and write to Pinecone with Spark\n",
    "\n",
    "Now that we have seen how to `upsert` with Pinecone, you may be curious whether we can use Spark DataFrame Writer (just like Weaviate) to write the entire dataframe out in a single operation. The answer is yes -- we will now take a look at how to do that and a spoiler alert is that you will need to use a Spark connector too! \n",
    "\n",
    "We first need to write a mapping function to map the tokenizer and embedding model onto batches of rows within the Spark DataFrame. We will be using a type of [pandas UDFs](https://www.databricks.com/blog/2020/05/20/new-pandas-udfs-and-python-type-hints-in-the-upcoming-release-of-apache-spark-3-0.html), called scalar iterator UDFs. \n",
    "\n",
    "> The function takes and outputs an iterator of pandas.Series.\n",
    "\n",
    "> The length of the whole output must be the same length of the whole input. Therefore, it can prefetch the data from the input iterator as long as the lengths of entire input and output are the same. The given function should take a single column as input.\n",
    "\n",
    "> It is also useful when the UDF execution requires expensive initialization of some state. \n",
    "\n",
    "We load the model once per partition of data, not per [batch](https://spark.apache.org/docs/latest/api/python/user_guide/sql/arrow_pandas.html#setting-arrow-batch-size), which is faster. \n",
    "\n",
    "For more documentation, refer [here](https://docs.databricks.com/udf/pandas.html)."
   ]
  },
  {
   "cell_type": "code",
   "execution_count": 0,
   "metadata": {
    "application/vnd.databricks.v1+cell": {
     "cellMetadata": {},
     "inputWidgets": {},
     "nuid": "ce1ffc3f-d2c8-43ea-851b-a8f627b3f0c8",
     "showTitle": false,
     "title": ""
    }
   },
   "outputs": [],
   "source": [
    "import pandas as pd\n",
    "from pyspark.sql.functions import pandas_udf\n",
    "from sentence_transformers import SentenceTransformer\n",
    "from typing import Iterator\n",
    "\n",
    "@pandas_udf(\"array<float>\")\n",
    "def create_embeddings_with_transformers(\n",
    "    sentences: Iterator[pd.Series],\n",
    ") -> Iterator[pd.Series]:\n",
    "    model = SentenceTransformer(\"sentence-transformers/all-MiniLM-L6-v2\")\n",
    "    for batch in sentences:\n",
    "        yield pd.Series(model.encode(batch).tolist())"
   ]
  },
  {
   "cell_type": "code",
   "execution_count": 0,
   "metadata": {
    "application/vnd.databricks.v1+cell": {
     "cellMetadata": {},
     "inputWidgets": {},
     "nuid": "6f738ad7-865a-403b-9163-588eda761e5f",
     "showTitle": false,
     "title": ""
    }
   },
   "outputs": [],
   "source": [
    "import pyspark.sql.functions as F\n",
    "\n",
    "transformer_type = \"sentence-transformers/all-MiniLM-L6-v2\"\n",
    "embedding_spark_df = (\n",
    "    df.limit(1000)\n",
    "    .withColumn(\"vector\", create_embeddings_with_transformers(\"title\"))\n",
    "    .withColumn(\"namespace\", F.lit(transformer_type))\n",
    "    .withColumn(\"metadata\", F.to_json(F.struct(F.col(\"topic\").alias(\"TOPIC\"))))\n",
    "    # We select these columns because they are expected by the Spark-Pinecone connector\n",
    "    .select(\"id\", \"vector\", \"namespace\", \"metadata\")\n",
    ")\n",
    "display(embedding_spark_df)"
   ]
  },
  {
   "cell_type": "markdown",
   "metadata": {
    "application/vnd.databricks.v1+cell": {
     "cellMetadata": {},
     "inputWidgets": {},
     "nuid": "47d6ff51-fa82-4594-b3ed-d2347ea273ce",
     "showTitle": false,
     "title": ""
    }
   },
   "source": [
    "Repeat the same step as in Method 1 above to delete and recreate the index. Again, we need to delete the index because Pinecone free tier only allows one index.\n",
    "\n",
    "Note: This could take ~3 minutes."
   ]
  },
  {
   "cell_type": "code",
   "execution_count": 0,
   "metadata": {
    "application/vnd.databricks.v1+cell": {
     "cellMetadata": {},
     "inputWidgets": {},
     "nuid": "0fbd5c35-ce7e-4af3-b743-11fccacf057b",
     "showTitle": false,
     "title": ""
    }
   },
   "outputs": [],
   "source": [
    "pinecone_index_name = \"news\"\n",
    "\n",
    "if pinecone_index_name in pinecone.list_indexes():\n",
    "    pinecone.delete_index(pinecone_index_name)\n",
    "\n",
    "# only create index if it doesn't exist\n",
    "model = SentenceTransformer(transformer_type)\n",
    "if pinecone_index_name not in pinecone.list_indexes():\n",
    "    pinecone.create_index(\n",
    "        name=pinecone_index_name,\n",
    "        dimension=model.get_sentence_embedding_dimension(),\n",
    "        metric=\"cosine\",\n",
    "    )\n",
    "\n",
    "# now connect to the index\n",
    "pinecone_index = pinecone.Index(pinecone_index_name)"
   ]
  },
  {
   "cell_type": "markdown",
   "metadata": {
    "application/vnd.databricks.v1+cell": {
     "cellMetadata": {},
     "inputWidgets": {},
     "nuid": "dba2cda7-563a-4fe1-acb1-949bd63459aa",
     "showTitle": false,
     "title": ""
    }
   },
   "source": [
    "Instead of writing in batches, you can now use Spark DataFrame Writer to write the data out to Pinecone directly.\n",
    "\n",
    "**IMPORTANT!!** You need to attach a Spark-Pinecone connector `s3://pinecone-jars/spark-pinecone-uberjar.jar` in the cluster you are using. Otherwise, this following command would fail. Refer to this [documentation](https://docs.pinecone.io/docs/databricks#setting-up-a-spark-cluster) if you need more information."
   ]
  },
  {
   "cell_type": "code",
   "execution_count": 0,
   "metadata": {
    "application/vnd.databricks.v1+cell": {
     "cellMetadata": {},
     "inputWidgets": {},
     "nuid": "2a8fb5c6-4270-418f-969e-d1dc25f4c0f0",
     "showTitle": false,
     "title": ""
    }
   },
   "outputs": [],
   "source": [
    "(\n",
    "    embedding_spark_df.write.option(\"pinecone.apiKey\", pinecone_api_key)\n",
    "    .option(\"pinecone.environment\", pinecone_env)\n",
    "    .option(\"pinecone.projectName\", pinecone.whoami().projectname)\n",
    "    .option(\"pinecone.indexName\", pinecone_index_name)\n",
    "    .format(\"io.pinecone.spark.pinecone.Pinecone\")\n",
    "    .mode(\"append\")\n",
    "    .save()\n",
    ")"
   ]
  },
  {
   "cell_type": "markdown",
   "metadata": {
    "application/vnd.databricks.v1+cell": {
     "cellMetadata": {},
     "inputWidgets": {},
     "nuid": "5fa65732-0dfd-46b4-877c-5120f3a75ffb",
     "showTitle": false,
     "title": ""
    }
   },
   "source": [
    "-sandbox\n",
    "&copy; 2023 Databricks, Inc. All rights reserved.<br/>\n",
    "Apache, Apache Spark, Spark and the Spark logo are trademarks of the <a href=\"https://www.apache.org/\">Apache Software Foundation</a>.<br/>\n",
    "<br/>\n",
    "<a href=\"https://databricks.com/privacy-policy\">Privacy Policy</a> | <a href=\"https://databricks.com/terms-of-use\">Terms of Use</a> | <a href=\"https://help.databricks.com/\">Support</a>"
   ]
  }
 ],
 "metadata": {
  "application/vnd.databricks.v1+notebook": {
   "dashboards": [],
   "language": "python",
   "notebookMetadata": {
    "pythonIndentUnit": 2
   },
   "notebookName": "LLM 02a - Pinecone [OPTIONAL]",
   "widgets": {}
  }
 },
 "nbformat": 4,
 "nbformat_minor": 0
}
